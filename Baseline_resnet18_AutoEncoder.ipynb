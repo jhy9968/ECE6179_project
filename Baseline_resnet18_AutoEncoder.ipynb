{
  "nbformat": 4,
  "nbformat_minor": 0,
  "metadata": {
    "colab": {
      "provenance": [],
      "include_colab_link": true
    },
    "kernelspec": {
      "name": "python3",
      "display_name": "Python 3"
    },
    "language_info": {
      "name": "python"
    },
    "accelerator": "GPU"
  },
  "cells": [
    {
      "cell_type": "markdown",
      "metadata": {
        "id": "view-in-github",
        "colab_type": "text"
      },
      "source": [
        "<a href=\"https://colab.research.google.com/github/jhy9968/ECE6179_project/blob/main/Baseline_resnet18_AutoEncoder.ipynb\" target=\"_parent\"><img src=\"https://colab.research.google.com/assets/colab-badge.svg\" alt=\"Open In Colab\"/></a>"
      ]
    },
    {
      "cell_type": "markdown",
      "metadata": {
        "id": "-S0T_NpRDE4J"
      },
      "source": [
        "<h1> ECE4179 - Semi-Supervised Learning Project</h1>\n",
        "<h2>Data</h2>\n",
        "\n",
        "We will be using a dataset that can be obtained directly from the torchvision package. There are 10 classes and we will be training a CNN for the image classification task. We have training, validation and test sets that are labelled with the class, and a large unlabeled set.\n",
        "\n",
        "We will simulating a low training data scenario by only sampling a small percentage of the labelled data (10%) as training data. The remaining examples will be used as the validation set.\n",
        "\n",
        "To get the labelled data, change the dataset_dir to something suitable for your machine, and execute the following (you will then probably want to wrap the dataset objects in a PyTorch DataLoader):"
      ]
    },
    {
      "cell_type": "code",
      "execution_count": 1,
      "metadata": {
        "colab": {
          "base_uri": "https://localhost:8080/"
        },
        "id": "uFBpiWvvDE4N",
        "outputId": "b73319e4-3a00-4463-86bb-3420c7152319"
      },
      "outputs": [
        {
          "output_type": "stream",
          "name": "stdout",
          "text": [
            "Looking in indexes: https://pypi.org/simple, https://us-python.pkg.dev/colab-wheels/public/simple/\n",
            "Requirement already satisfied: torchmetrics in /usr/local/lib/python3.7/dist-packages (0.9.3)\n",
            "Requirement already satisfied: packaging in /usr/local/lib/python3.7/dist-packages (from torchmetrics) (21.3)\n",
            "Requirement already satisfied: typing-extensions in /usr/local/lib/python3.7/dist-packages (from torchmetrics) (4.1.1)\n",
            "Requirement already satisfied: torch>=1.3.1 in /usr/local/lib/python3.7/dist-packages (from torchmetrics) (1.12.1+cu113)\n",
            "Requirement already satisfied: numpy>=1.17.2 in /usr/local/lib/python3.7/dist-packages (from torchmetrics) (1.21.6)\n",
            "Requirement already satisfied: pyparsing!=3.0.5,>=2.0.2 in /usr/local/lib/python3.7/dist-packages (from packaging->torchmetrics) (3.0.9)\n",
            "Drive already mounted at /content/drive/; to attempt to forcibly remount, call drive.mount(\"/content/drive/\", force_remount=True).\n"
          ]
        }
      ],
      "source": [
        "import torch\n",
        "from torchvision.datasets import STL10 as STL10\n",
        "import torchvision.transforms as transforms\n",
        "from torch.utils.data import random_split\n",
        "!pip install torchmetrics\n",
        "from torchmetrics import Accuracy\n",
        "import torchvision\n",
        "from torch.utils.tensorboard import SummaryWriter\n",
        "from datetime import datetime\n",
        "from google.colab import drive\n",
        "drive.mount('/content/drive/')\n",
        "\n",
        "####### CHANGE TO APPROPRIATE DIRECTORY TO STORE DATASET\n",
        "root_dir = \"/content/drive/Shareddrives/ECE6179_project/\"\n",
        "dataset_dir = root_dir + \"CNN-VAE/data/\"\n",
        "#For MonARCH\n",
        "# dataset_dir = \"/mnt/lustre/projects/ds19/SHARED\"\n",
        "\n",
        "#All images are 3x96x96\n",
        "image_size = 96\n",
        "#Example batch size\n",
        "batch_size = 32"
      ]
    },
    {
      "cell_type": "markdown",
      "metadata": {
        "id": "oLcOWpnFDE4P"
      },
      "source": [
        "<h3>Create the appropriate transforms</h3>"
      ]
    },
    {
      "cell_type": "code",
      "execution_count": 2,
      "metadata": {
        "id": "7wXg8yiPDE4Q"
      },
      "outputs": [],
      "source": [
        "#Perform random crops and mirroring for data augmentation\n",
        "transform_train = transforms.Compose(\n",
        "    [transforms.RandomCrop(image_size, padding=4),\n",
        "     transforms.RandomHorizontalFlip(p=0.5),\n",
        "     transforms.ToTensor(),\n",
        "     transforms.Normalize((0.5, 0.5, 0.5), (0.5, 0.5, 0.5))])\n",
        "\n",
        "transform_unlabelled = transforms.Compose(\n",
        "    [transforms.RandomHorizontalFlip(p=0.5),\n",
        "     transforms.ToTensor(),\n",
        "     transforms.Normalize((0.5, 0.5, 0.5), (0.5, 0.5, 0.5))])\n",
        "\n",
        "#No random \n",
        "transform_test = transforms.Compose(\n",
        "    [transforms.CenterCrop(image_size),\n",
        "     transforms.ToTensor(),\n",
        "     transforms.Normalize((0.5, 0.5, 0.5), (0.5, 0.5, 0.5))])\n"
      ]
    },
    {
      "cell_type": "markdown",
      "metadata": {
        "id": "AS3dubNXDE4S"
      },
      "source": [
        "<h3>Create training and validation split</h3>"
      ]
    },
    {
      "cell_type": "code",
      "execution_count": 3,
      "metadata": {
        "colab": {
          "base_uri": "https://localhost:8080/"
        },
        "id": "7rgiNAlXDE4T",
        "outputId": "6a001025-46ce-489d-9760-bc7bc97074f7"
      },
      "outputs": [
        {
          "output_type": "stream",
          "name": "stdout",
          "text": [
            "Files already downloaded and verified\n",
            "Files already downloaded and verified\n"
          ]
        }
      ],
      "source": [
        "#Load train and validation sets\n",
        "trainval_set = STL10(dataset_dir, split='train', transform=transform_train, download=True)\n",
        "\n",
        "#Use 10% of data for training - simulating low data scenario\n",
        "num_train = int(len(trainval_set)*0.1)\n",
        "\n",
        "#Split data into train/val sets\n",
        "torch.manual_seed(0) #Set torch's random seed so that random split of data is reproducible\n",
        "train_set, val_set = random_split(trainval_set, [num_train, len(trainval_set)-num_train])\n",
        "\n",
        "#Load test set\n",
        "test_set = STL10(dataset_dir, split='test', transform=transform_test, download=True)"
      ]
    },
    {
      "cell_type": "markdown",
      "metadata": {
        "id": "dqG_W11HDE4U"
      },
      "source": [
        "<h3>Get the unlabelled data</h3>"
      ]
    },
    {
      "cell_type": "code",
      "execution_count": 4,
      "metadata": {
        "colab": {
          "base_uri": "https://localhost:8080/"
        },
        "id": "DouBlqObDE4V",
        "outputId": "5ff47586-690d-46f5-cd4d-95fa78519546"
      },
      "outputs": [
        {
          "output_type": "stream",
          "name": "stdout",
          "text": [
            "Files already downloaded and verified\n"
          ]
        }
      ],
      "source": [
        "unlabelled_set = STL10(dataset_dir, split='unlabeled', transform=transform_unlabelled, download=True)"
      ]
    },
    {
      "cell_type": "markdown",
      "metadata": {
        "id": "LQqKNndoDE4W"
      },
      "source": [
        "You may find later that you want to make changes to how the unlabelled data is loaded. This might require you sub-classing the STL10 class used above or to create your own dataloader similar to the Pytorch one.\n",
        "https://pytorch.org/docs/stable/_modules/torchvision/datasets/stl10.html#STL10"
      ]
    },
    {
      "cell_type": "markdown",
      "metadata": {
        "id": "LMURqvriDE4X"
      },
      "source": [
        "<h3>Create the four dataloaders</h3>"
      ]
    },
    {
      "cell_type": "code",
      "execution_count": 16,
      "metadata": {
        "id": "qVrmhgwmDE4X",
        "outputId": "45f5594f-43c2-45df-96fb-1ae7b8009834",
        "colab": {
          "base_uri": "https://localhost:8080/"
        }
      },
      "outputs": [
        {
          "output_type": "stream",
          "name": "stdout",
          "text": [
            "Size of train loader: 1\n",
            "Size of unlabelled loader: 200\n",
            "Size of valid loader: 9\n",
            "Size of test loader: 16\n"
          ]
        }
      ],
      "source": [
        "from torch.utils.data import DataLoader\n",
        "\n",
        "batch_size = 500\n",
        "train_loader = DataLoader(train_set, shuffle=True, batch_size=batch_size)\n",
        "unlabelled_loader = DataLoader(unlabelled_set, shuffle=True, batch_size=batch_size)\n",
        "\n",
        "val_loader = DataLoader(val_set, batch_size=batch_size)\n",
        "test_loader  = DataLoader(test_set, batch_size=batch_size)\n",
        "\n",
        "print('Size of train loader:', len(train_loader))\n",
        "print('Size of unlabelled loader:', len(unlabelled_loader))\n",
        "print('Size of valid loader:', len(val_loader))\n",
        "print('Size of test loader:', len(test_loader))"
      ]
    },
    {
      "cell_type": "code",
      "source": [
        "train_data_iter = iter(unlabelled_loader)\n",
        "data,labels = train_data_iter.next()\n",
        "print(data.shape)\n",
        "print(labels.shape)"
      ],
      "metadata": {
        "id": "vzHG6jOZJhFA",
        "outputId": "0fdd0b6a-1b92-41f4-9873-81b3b3d40d52",
        "colab": {
          "base_uri": "https://localhost:8080/"
        }
      },
      "execution_count": 17,
      "outputs": [
        {
          "output_type": "stream",
          "name": "stdout",
          "text": [
            "torch.Size([500, 3, 96, 96])\n",
            "torch.Size([500])\n"
          ]
        }
      ]
    },
    {
      "cell_type": "markdown",
      "metadata": {
        "id": "tJLvtfofDE4Z"
      },
      "source": [
        "## Network\n",
        "\n",
        "Let's use a ResNet18 architecture for our CNN..."
      ]
    },
    {
      "cell_type": "code",
      "source": [
        "# Load the TensorBoard notebook extension\n",
        "%load_ext tensorboard\n",
        "\n",
        "device = torch.device(\"cuda:0\" if torch.cuda.is_available() else \"cpu\")\n",
        "print(device)\n",
        "\n",
        "gpu_info = !nvidia-smi\n",
        "gpu_info = '\\n'.join(gpu_info)\n",
        "if gpu_info.find('failed') >= 0:\n",
        "  print('Not connected to a GPU')\n",
        "else:\n",
        "  print(gpu_info)"
      ],
      "metadata": {
        "id": "NwWBSwHuQXYr",
        "outputId": "b1a5bc01-6566-475a-f215-c7d2f31390db",
        "colab": {
          "base_uri": "https://localhost:8080/"
        }
      },
      "execution_count": 7,
      "outputs": [
        {
          "output_type": "stream",
          "name": "stdout",
          "text": [
            "cuda:0\n",
            "Sat Sep 24 01:33:05 2022       \n",
            "+-----------------------------------------------------------------------------+\n",
            "| NVIDIA-SMI 460.32.03    Driver Version: 460.32.03    CUDA Version: 11.2     |\n",
            "|-------------------------------+----------------------+----------------------+\n",
            "| GPU  Name        Persistence-M| Bus-Id        Disp.A | Volatile Uncorr. ECC |\n",
            "| Fan  Temp  Perf  Pwr:Usage/Cap|         Memory-Usage | GPU-Util  Compute M. |\n",
            "|                               |                      |               MIG M. |\n",
            "|===============================+======================+======================|\n",
            "|   0  Tesla P100-PCIE...  Off  | 00000000:00:04.0 Off |                    0 |\n",
            "| N/A   43C    P0    28W / 250W |      2MiB / 16280MiB |      0%      Default |\n",
            "|                               |                      |                  N/A |\n",
            "+-------------------------------+----------------------+----------------------+\n",
            "                                                                               \n",
            "+-----------------------------------------------------------------------------+\n",
            "| Processes:                                                                  |\n",
            "|  GPU   GI   CI        PID   Type   Process name                  GPU Memory |\n",
            "|        ID   ID                                                   Usage      |\n",
            "|=============================================================================|\n",
            "|  No running processes found                                                 |\n",
            "+-----------------------------------------------------------------------------+\n"
          ]
        }
      ]
    },
    {
      "cell_type": "code",
      "source": [
        "! pip install --quiet \"matplotlib\" \"pytorch-lightning\" \"pandas\" \"torchmetrics\"\n",
        "import matplotlib.pyplot as plt\n",
        "import pytorch_lightning as pl\n",
        "import torch\n",
        "from torch import Tensor\n",
        "import torch.nn as nn\n",
        "from torchmetrics import Accuracy\n",
        "from pytorch_lightning import LightningModule, Trainer\n",
        "from pytorch_lightning.callbacks.progress import TQDMProgressBar\n",
        "from pytorch_lightning.loggers import CSVLogger\n",
        "from torch.nn import functional as F\n",
        "from torchmetrics import MeanSquaredError\n",
        "from pytorch_lightning.callbacks import Callback, ModelCheckpoint\n",
        "import torchvision.models.resnet as RN"
      ],
      "metadata": {
        "id": "xNJLwF82fynN",
        "outputId": "65492150-6ec8-42e8-cfb1-ef673f85c799",
        "colab": {
          "base_uri": "https://localhost:8080/"
        }
      },
      "execution_count": 8,
      "outputs": [
        {
          "output_type": "stream",
          "name": "stdout",
          "text": [
            "\u001b[K     |████████████████████████████████| 708 kB 8.6 MB/s \n",
            "\u001b[K     |████████████████████████████████| 5.9 MB 43.0 MB/s \n",
            "\u001b[31mERROR: pip's dependency resolver does not currently take into account all the packages that are installed. This behaviour is the source of the following dependency conflicts.\n",
            "tensorflow 2.8.2+zzzcolab20220719082949 requires tensorboard<2.9,>=2.8, but you have tensorboard 2.10.0 which is incompatible.\u001b[0m\n",
            "\u001b[?25h"
          ]
        }
      ]
    },
    {
      "cell_type": "code",
      "source": [
        "class Encoder(nn.Module):\n",
        "  def __init__ (self, inplanes = 64, outplanes = 64 ):\n",
        "    super(Encoder, self).__init__()\n",
        "\n",
        "    # self.learning_rate = learning_rate\n",
        "    # self.loss_fun      = nn.CrossEntropyLos()\n",
        "\n",
        "    # self.train_loader  = train_loader\n",
        "    # self.val_loader    = val_loader\n",
        "    # self.test_loader   = test_loader\n",
        "    self.inplanes      = inplanes\n",
        "    self.outplanes     = outplanes\n",
        "\n",
        "    self.conv1         = nn.Conv2d(in_channels= 3, out_channels = self.inplanes, kernel_size = 7, stride=2, padding=3, bias = False)\n",
        "    self.bn1           = nn.BatchNorm2d(self.inplanes)\n",
        "    self.relu           = F.relu\n",
        "    self.maxpool       = nn.MaxPool2d(kernel_size=3, stride=2, padding=1)\n",
        "\n",
        "    \n",
        "    self.BasicBlock1   = RN.BasicBlock(inplanes = self.inplanes,  planes = self.outplanes)\n",
        "    self.BasicBlock2   = RN.BasicBlock(inplanes = self.outplanes, planes = self.outplanes)\n",
        "\n",
        "  def forward(self, x):\n",
        "\n",
        "    x = self.conv1(x)\n",
        "    x = self.bn1(x)\n",
        "    x = self.relu(x)\n",
        "    x = self.maxpool(x)\n",
        "    x = self.BasicBlock1(x)\n",
        "    x = self.BasicBlock2(x)\n",
        "\n",
        "    return x\n"
      ],
      "metadata": {
        "id": "7o9KZm7lfp1X"
      },
      "execution_count": 9,
      "outputs": []
    },
    {
      "cell_type": "code",
      "source": [
        "class Decoder(nn.Module):\n",
        "  def __init__ (self, inplanes = 64, intMed_planes = 64):\n",
        "    super(Decoder, self).__init__()\n",
        "    self.inplanes      = inplanes\n",
        "    self.intMed_planes = intMed_planes\n",
        "\n",
        "    self.convTrans1 = nn.ConvTranspose2d(in_channels = self.inplanes, out_channels = self.intMed_planes, kernel_size = 3, stride = 2, padding = 1, output_padding=1)\n",
        "    self.conv2 = nn.Conv2d(in_channels = self.intMed_planes, out_channels = self.intMed_planes, kernel_size = 3, stride = 1, padding = 1)\n",
        "    self.convTrans3 = nn.ConvTranspose2d(in_channels = self.intMed_planes, out_channels = self.intMed_planes, kernel_size = 3, stride = 2, padding = 1, output_padding=1)\n",
        "    self.conv4 = nn.Conv2d(in_channels = self.intMed_planes, out_channels = 3, kernel_size = 3, stride = 1, padding = 1)\n",
        "\n",
        " # Output padding is here to match the size. It needs to be careful on this extra line of zeros when building the loss function.\n",
        "\n",
        "  def forward (self, x):\n",
        "    \n",
        "    x = self.convTrans1(x)\n",
        "    x = self.conv2(x)\n",
        "    x = self.convTrans3(x)\n",
        "    x = self.conv4(x)\n",
        "\n",
        "    return x\n",
        "\n"
      ],
      "metadata": {
        "id": "AyLshQU3wWLu"
      },
      "execution_count": 10,
      "outputs": []
    },
    {
      "cell_type": "code",
      "source": [
        "class AutoEncoder(LightningModule):\n",
        "  def __init__ (self, learning_rate = 1e-4, trainDataLoader=unlabelled_loader, valDataLoader=val_loader, testDataLoader=test_loader):\n",
        "    super().__init__()\n",
        "\n",
        "    self.learning_rate = learning_rate\n",
        "    self.loss_fun = nn.MSELoss()\n",
        "\n",
        "    self.Encoder = Encoder(64, 64)\n",
        "    self.Decoder = Decoder(64, 64)\n",
        "\n",
        "    self.train_accuracy = MeanSquaredError()\n",
        "    self.vald_accuracy = MeanSquaredError()\n",
        "    self.test_accuracy = MeanSquaredError()\n",
        "\n",
        "    self.trainDataLoader = trainDataLoader\n",
        "    self.valDataLoader = valDataLoader\n",
        "    self.testDataLoader = testDataLoader\n",
        "    \n",
        "\n",
        "  def forward(self, x):\n",
        "#    print(x.shape)\n",
        "    out = self.Encoder(x)\n",
        "#    print(out.shape)\n",
        "    out = self.Decoder(out)\n",
        "#    print(out.shape)\n",
        "    out_flattened = out.view(x.shape[0], -1)\n",
        "#    print(out_flattened.shape)\n",
        "    return out_flattened\n",
        "\n",
        "  def training_step(self, batch, batch_idx):\n",
        "    x, y = batch\n",
        "    logits = self.forward(x)\n",
        "    x_flattened = x.view(x.shape[0], -1)\n",
        "\n",
        "    loss = self.loss_fun(logits, x_flattened)\n",
        "    self.log(\"train_loss\", loss, prog_bar=True, on_step=False, on_epoch=True)\n",
        "    #self.log(\"train_acc\", self.train_accuracy, prog_bar=True, on_step=False, on_epoch=True)\n",
        "\n",
        "    return loss\n",
        "\n",
        "  def validation_step(self, batch, batch_idx):\n",
        "    x, y = batch\n",
        "    logits = self.forward(x)\n",
        "    x_flattened = x.view(x.shape[0], -1)\n",
        "\n",
        "    loss = self.loss_fun(logits, x_flattened)\n",
        "    self.log(\"val_loss\", loss, prog_bar=True, on_step=False, on_epoch=True)\n",
        "    #self.log(\"val_acc\", self.val_accuracy, prog_bar=True, on_step=False, on_epoch=True) \n",
        "  \n",
        "  def test_step(self, batch, batch_idx):\n",
        "    x, y = batch\n",
        "    logits = self.forward(x)\n",
        "    x_flattened = x.view(x.shape[0], -1)\n",
        "\n",
        "    loss = self.loss_fun(logits, x_flattened)\n",
        "    self.log(\"test_loss\", loss, prog_bar=True, on_step=False, on_epoch=True)\n",
        "    #self.log(\"test_acc\", self.test_accuracy, prog_bar=True, on_step=False, on_epoch=True) \n",
        "\n",
        "  def configure_optimizers(self):\n",
        "    optimizer = torch.optim.Adam(self.parameters(), lr=self.learning_rate)\n",
        "\n",
        "    return optimizer\n",
        "  \n",
        "  def train_dataloader(self):    \n",
        "    return self.trainDataLoader\n",
        "  \n",
        "  def val_dataloader(self):\n",
        "    return self.valDataLoader\n",
        "  \n",
        "  def test_dataloader(self):\n",
        "    return self.testDataLoader\n",
        "\n",
        "  def extractSubModules(self):\n",
        "    return self.Encoder, self.Decoder"
      ],
      "metadata": {
        "id": "_X44bZjh22pZ"
      },
      "execution_count": 11,
      "outputs": []
    },
    {
      "cell_type": "code",
      "source": [
        "\n",
        "\n",
        "Max_Epochs = 200\n",
        "Case_Dir = \"BaseCase_AutoEncoder_ver001/\"\n",
        "checkpoint_callback = ModelCheckpoint(monitor = \"val_acc\",\n",
        "                                      dirpath = root_dir+ Case_Dir,\n",
        "                                      save_top_k=1,\n",
        "                                      mode=\"max\",\n",
        "                                      every_n_epochs=1\n",
        "                                      )\n",
        "print(root_dir+ Case_Dir)\n",
        "model_AutoEncoder_v001 = AutoEncoder()\n",
        "\n",
        "trainer_AutoEncoder = Trainer(\n",
        "    accelerator=\"auto\",\n",
        "    devices = 1 if torch.cuda.is_available() else None,\n",
        "    max_epochs = Max_Epochs,\n",
        "    callbacks = [TQDMProgressBar(refresh_rate=20)],\n",
        "    logger=CSVLogger(save_dir= root_dir+ Case_Dir),\n",
        "    deterministic=True\n",
        ")\n",
        "\n",
        "trainer_AutoEncoder.fit(model_AutoEncoder_v001 )\n",
        "\n",
        "# Evaluate Model\n",
        "trainer_AutoEncoder.test()\n",
        "\n",
        "# Save Encoder & Decoder\n",
        "\n",
        "\n",
        "\n",
        "model_AutoEncoder_v001.freeze()\n",
        "model_path = root_dir+ Case_Dir+ \"Models/\"\n",
        "timestamp = datetime.now().strftime('%Y%m%d%H%m%s')\n",
        "\n",
        "enc, dec = model_AutoEncoder_v001.extractSubModules()\n",
        "torch.save(model_AutoEncoder_v001.state_dict(), model_path+timestamp+\"_model_AutoEncoder_v001.pth\")\n",
        "torch.save(enc.state_dict(), model_path+timestamp+\"_model_AutoEncoder_v001_encoder.pth\")\n",
        "torch.save(dec.state_dict(), model_path+timestamp+\"_model_AutoEncoder_v001_decoder.pth\")"
      ],
      "metadata": {
        "id": "6Aj7jKkk0PHg"
      },
      "execution_count": null,
      "outputs": []
    },
    {
      "cell_type": "code",
      "source": [
        "'''\n",
        "def train_one_epoch(epoch_index):\n",
        "    running_loss = 0.\n",
        "    running_acc = 0.\n",
        "    last_loss = 0.\n",
        "    last_acc = 0.\n",
        "\n",
        "    for i, data in enumerate(train_loader):\n",
        "        inputs, labels = data\n",
        "        inputs = inputs.to(device)\n",
        "        labels = labels.to(device)\n",
        "\n",
        "        optimiser.zero_grad()\n",
        "\n",
        "        x = Encoder(inputs)\n",
        "        x = Decoder(x)\n",
        "\n",
        "        outputs = x\n",
        "\n",
        "        inputsLinear  = inputs.view (inputs.shape[0], -1)\n",
        "        outputsLinear = outputs.view(outputs.shape[0],-1)\n",
        "\n",
        "        loss = loss_fn(outputsLinear, inputsLinear)\n",
        "        # acc = accuracy(outputs, labels)\n",
        "        loss.backward()\n",
        "\n",
        "        optimiser.step()\n",
        "\n",
        "        running_loss += loss.item()\n",
        "        running_acc += acc.item()\n",
        "\n",
        "    last_loss = running_loss / len(train_loader) # loss per batch\n",
        "    last_acc = running_acc / len(train_loader) # accuracy per batch\n",
        "\n",
        "    return last_loss, last_acc\n",
        "  '''"
      ],
      "metadata": {
        "id": "5PUZTMixHeNY",
        "outputId": "104a7ee5-048f-4aee-88d1-625e33cd1e68",
        "colab": {
          "base_uri": "https://localhost:8080/",
          "height": 125
        }
      },
      "execution_count": null,
      "outputs": [
        {
          "output_type": "execute_result",
          "data": {
            "text/plain": [
              "'\\ndef train_one_epoch(epoch_index):\\n    running_loss = 0.\\n    running_acc = 0.\\n    last_loss = 0.\\n    last_acc = 0.\\n\\n    for i, data in enumerate(train_loader):\\n        inputs, labels = data\\n        inputs = inputs.to(device)\\n        labels = labels.to(device)\\n\\n        optimiser.zero_grad()\\n\\n        x = Encoder(inputs)\\n        x = Decoder(x)\\n\\n        outputs = x\\n\\n        inputsLinear  = inputs.view (inputs.shape[0], -1)\\n        outputsLinear = outputs.view(outputs.shape[0],-1)\\n\\n        loss = loss_fn(outputsLinear, inputsLinear)\\n        # acc = accuracy(outputs, labels)\\n        loss.backward()\\n\\n        optimiser.step()\\n\\n        running_loss += loss.item()\\n        running_acc += acc.item()\\n\\n    last_loss = running_loss / len(train_loader) # loss per batch\\n    last_acc = running_acc / len(train_loader) # accuracy per batch\\n\\n    return last_loss, last_acc\\n  '"
            ],
            "application/vnd.google.colaboratory.intrinsic+json": {
              "type": "string"
            }
          },
          "metadata": {},
          "execution_count": 13
        }
      ]
    },
    {
      "cell_type": "code",
      "execution_count": null,
      "metadata": {
        "id": "M6kttFtVDE4a",
        "outputId": "d08ec5c9-01fa-457c-8189-95decf106863",
        "colab": {
          "base_uri": "https://localhost:8080/",
          "height": 35
        }
      },
      "outputs": [
        {
          "output_type": "execute_result",
          "data": {
            "text/plain": [
              "'\\nmodel = torchvision.models.resnet18()\\nmodel.fc = torch.nn.Linear(in_features=512, out_features=10, bias=True)\\nmodel = model.to(device)\\n'"
            ],
            "application/vnd.google.colaboratory.intrinsic+json": {
              "type": "string"
            }
          },
          "metadata": {},
          "execution_count": 14
        }
      ],
      "source": [
        "'''\n",
        "model = torchvision.models.resnet18()\n",
        "model.fc = torch.nn.Linear(in_features=512, out_features=10, bias=True)\n",
        "model = model.to(device)\n",
        "'''"
      ]
    },
    {
      "cell_type": "code",
      "source": [
        "'''\n",
        "EPOCHS = 100\n",
        "LEARNING_RATE = 1e-2\n",
        "best_vloss = 1_000_000.\n",
        "best_vacc = 0.\n",
        "\n",
        "timestamp = datetime.now().strftime('%Y%m%d')\n",
        "writer = SummaryWriter(root_dir + 'Baseline_resnet18/runs/resnet18_trainer_{}_epochs_{}_lr_{}'.format(timestamp, EPOCHS, LEARNING_RATE))\n",
        "epoch_number = 0\n",
        "'''"
      ],
      "metadata": {
        "id": "94YeDcnd4N4G",
        "outputId": "d518e7f6-dd62-4245-9c2f-f2b4d6586dcc",
        "colab": {
          "base_uri": "https://localhost:8080/",
          "height": 53
        }
      },
      "execution_count": null,
      "outputs": [
        {
          "output_type": "execute_result",
          "data": {
            "text/plain": [
              "\"\\nEPOCHS = 100\\nLEARNING_RATE = 1e-2\\nbest_vloss = 1_000_000.\\nbest_vacc = 0.\\n\\ntimestamp = datetime.now().strftime('%Y%m%d')\\nwriter = SummaryWriter(root_dir + 'Baseline_resnet18/runs/resnet18_trainer_{}_epochs_{}_lr_{}'.format(timestamp, EPOCHS, LEARNING_RATE))\\nepoch_number = 0\\n\""
            ],
            "application/vnd.google.colaboratory.intrinsic+json": {
              "type": "string"
            }
          },
          "metadata": {},
          "execution_count": 15
        }
      ]
    },
    {
      "cell_type": "code",
      "source": [
        "# EPOCHS = 100\n",
        "# LEARNING_RATE = 1e-2\n",
        "# best_vloss = 1_000_000.\n",
        "# best_vacc = 0.\n",
        "\n",
        "# timestamp = datetime.now().strftime('%Y%m%d')\n",
        "# writer = SummaryWriter(root_dir + 'Baseline_resnet18/runs/resnet18_trainer_{}_epochs_{}_lr_{}'.format(timestamp, EPOCHS, LEARNING_RATE))\n",
        "# epoch_number = 0\n",
        "'''\n",
        "optimiser = torch.optim.Adam(model.parameters(), lr=LEARNING_RATE)\n",
        "accuracy = Accuracy().to(device)\n",
        "loss_fn = torch.nn.CrossEntropyLoss()\n",
        "\n",
        "for epoch in range(EPOCHS):\n",
        "\n",
        "    # Training\n",
        "    model.train(True)\n",
        "    avg_loss, avg_acc = train_one_epoch(epoch_number)\n",
        "\n",
        "    # Validation\n",
        "    model.train(False)\n",
        "    running_vloss = 0.0\n",
        "    running_vacc = 0.0\n",
        "    with torch.no_grad():\n",
        "      for i, vdata in enumerate(valid_loader):\n",
        "          vinputs, vlabels = vdata\n",
        "          vinputs = vinputs.to(device)\n",
        "          vlabels = vlabels.to(device)\n",
        "          voutputs = model(vinputs)\n",
        "          vloss = loss_fn(voutputs, vlabels)\n",
        "          vacc = accuracy(voutputs, vlabels)\n",
        "          running_vloss += vloss\n",
        "          running_vacc += vacc\n",
        "    avg_vloss = running_vloss / (i + 1)\n",
        "    avg_vacc = running_vacc / (i + 1)\n",
        "\n",
        "    # Print and log the loss\n",
        "    if epoch_number % 10 == 9:\n",
        "      print('EPOCH {}:'.format(epoch_number + 1))\n",
        "      print('LOSS train {} valid {}'.format(avg_loss, avg_vloss))\n",
        "      print('ACC train {} valid {}'.format(avg_acc, avg_vacc))\n",
        "      writer.add_scalars('Training vs. Validation Loss',\n",
        "                      { 'Training' : avg_loss, 'Validation' : avg_vloss },\n",
        "                      epoch_number + 1)\n",
        "      writer.add_scalars('Training vs. Validation Accuracy',\n",
        "                      { 'Training' : avg_acc, 'Validation' : avg_vacc },\n",
        "                      epoch_number + 1)\n",
        "      writer.flush()\n",
        "\n",
        "    # Track best performance, and save the model's state\n",
        "    if avg_vacc > best_vacc:\n",
        "        best_vacc = avg_vacc\n",
        "        model_path = root_dir + 'Baseline_resnet18/models/model_{}_{}_acc_{}'.format(timestamp, epoch_number, best_vacc)\n",
        "        torch.save(model.state_dict(), model_path)\n",
        "\n",
        "    epoch_number += 1\n",
        "'''"
      ],
      "metadata": {
        "colab": {
          "base_uri": "https://localhost:8080/",
          "height": 143
        },
        "id": "-d5cGjqVLHCR",
        "outputId": "18bd7c53-0de9-424d-9372-0de5c37d8099"
      },
      "execution_count": null,
      "outputs": [
        {
          "output_type": "execute_result",
          "data": {
            "text/plain": [
              "\"\\noptimiser = torch.optim.Adam(model.parameters(), lr=LEARNING_RATE)\\naccuracy = Accuracy().to(device)\\nloss_fn = torch.nn.CrossEntropyLoss()\\n\\nfor epoch in range(EPOCHS):\\n\\n    # Training\\n    model.train(True)\\n    avg_loss, avg_acc = train_one_epoch(epoch_number)\\n\\n    # Validation\\n    model.train(False)\\n    running_vloss = 0.0\\n    running_vacc = 0.0\\n    with torch.no_grad():\\n      for i, vdata in enumerate(valid_loader):\\n          vinputs, vlabels = vdata\\n          vinputs = vinputs.to(device)\\n          vlabels = vlabels.to(device)\\n          voutputs = model(vinputs)\\n          vloss = loss_fn(voutputs, vlabels)\\n          vacc = accuracy(voutputs, vlabels)\\n          running_vloss += vloss\\n          running_vacc += vacc\\n    avg_vloss = running_vloss / (i + 1)\\n    avg_vacc = running_vacc / (i + 1)\\n\\n    # Print and log the loss\\n    if epoch_number % 10 == 9:\\n      print('EPOCH {}:'.format(epoch_number + 1))\\n      print('LOSS train {} valid {}'.format(avg_loss, avg_vloss))\\n      print('ACC train {} valid {}'.format(avg_acc, avg_vacc))\\n      writer.add_scalars('Training vs. Validation Loss',\\n                      { 'Training' : avg_loss, 'Validation' : avg_vloss },\\n                      epoch_number + 1)\\n      writer.add_scalars('Training vs. Validation Accuracy',\\n                      { 'Training' : avg_acc, 'Validation' : avg_vacc },\\n                      epoch_number + 1)\\n      writer.flush()\\n\\n    # Track best performance, and save the model's state\\n    if avg_vacc > best_vacc:\\n        best_vacc = avg_vacc\\n        model_path = root_dir + 'Baseline_resnet18/models/model_{}_{}_acc_{}'.format(timestamp, epoch_number, best_vacc)\\n        torch.save(model.state_dict(), model_path)\\n\\n    epoch_number += 1\\n\""
            ],
            "application/vnd.google.colaboratory.intrinsic+json": {
              "type": "string"
            }
          },
          "metadata": {},
          "execution_count": 16
        }
      ]
    },
    {
      "cell_type": "code",
      "source": [
        "'''\n",
        "# Testing\n",
        "model.train(False)\n",
        "running_tacc = 0.0\n",
        "with torch.no_grad():\n",
        "  for i, tdata in enumerate(test_loader):\n",
        "      tinputs, tlabels = tdata\n",
        "      tinputs = tinputs.to(device)\n",
        "      tlabels = tlabels.to(device)\n",
        "      toutputs = model(tinputs)\n",
        "      tacc = accuracy(toutputs, tlabels)\n",
        "      running_tacc += tacc\n",
        "avg_tacc = running_tacc / (i + 1)\n",
        "print('Testing ACC {}'.format(avg_tacc))\n",
        "'''"
      ],
      "metadata": {
        "id": "8Nsv1nA6kqC6",
        "outputId": "c5445a1e-d18d-4aa3-eb38-dbf21d1de206",
        "colab": {
          "base_uri": "https://localhost:8080/",
          "height": 240
        }
      },
      "execution_count": null,
      "outputs": [
        {
          "output_type": "error",
          "ename": "NameError",
          "evalue": "ignored",
          "traceback": [
            "\u001b[0;31m---------------------------------------------------------------------------\u001b[0m",
            "\u001b[0;31mNameError\u001b[0m                                 Traceback (most recent call last)",
            "\u001b[0;32m<ipython-input-17-921e3c2acb88>\u001b[0m in \u001b[0;36m<module>\u001b[0;34m\u001b[0m\n\u001b[1;32m      1\u001b[0m \u001b[0;31m# Testing\u001b[0m\u001b[0;34m\u001b[0m\u001b[0;34m\u001b[0m\u001b[0;34m\u001b[0m\u001b[0m\n\u001b[0;32m----> 2\u001b[0;31m \u001b[0mmodel\u001b[0m\u001b[0;34m.\u001b[0m\u001b[0mtrain\u001b[0m\u001b[0;34m(\u001b[0m\u001b[0;32mFalse\u001b[0m\u001b[0;34m)\u001b[0m\u001b[0;34m\u001b[0m\u001b[0;34m\u001b[0m\u001b[0m\n\u001b[0m\u001b[1;32m      3\u001b[0m \u001b[0mrunning_tacc\u001b[0m \u001b[0;34m=\u001b[0m \u001b[0;36m0.0\u001b[0m\u001b[0;34m\u001b[0m\u001b[0;34m\u001b[0m\u001b[0m\n\u001b[1;32m      4\u001b[0m \u001b[0;32mwith\u001b[0m \u001b[0mtorch\u001b[0m\u001b[0;34m.\u001b[0m\u001b[0mno_grad\u001b[0m\u001b[0;34m(\u001b[0m\u001b[0;34m)\u001b[0m\u001b[0;34m:\u001b[0m\u001b[0;34m\u001b[0m\u001b[0;34m\u001b[0m\u001b[0m\n\u001b[1;32m      5\u001b[0m   \u001b[0;32mfor\u001b[0m \u001b[0mi\u001b[0m\u001b[0;34m,\u001b[0m \u001b[0mtdata\u001b[0m \u001b[0;32min\u001b[0m \u001b[0menumerate\u001b[0m\u001b[0;34m(\u001b[0m\u001b[0mtest_loader\u001b[0m\u001b[0;34m)\u001b[0m\u001b[0;34m:\u001b[0m\u001b[0;34m\u001b[0m\u001b[0;34m\u001b[0m\u001b[0m\n",
            "\u001b[0;31mNameError\u001b[0m: name 'model' is not defined"
          ]
        }
      ]
    },
    {
      "cell_type": "code",
      "source": [
        "dataiter = iter(train_loader)\n",
        "images, labels = dataiter.next()\n",
        "writer.add_graph(model, images.to(device))\n",
        "writer.close()"
      ],
      "metadata": {
        "id": "BwnfepGJ3eyn"
      },
      "execution_count": null,
      "outputs": []
    },
    {
      "cell_type": "code",
      "source": [
        "%tensorboard --logdir=/content/drive/Shareddrives/ECE6179_project/Baseline_resnet18/runs"
      ],
      "metadata": {
        "id": "cm_EBBr4DHzv"
      },
      "execution_count": null,
      "outputs": []
    },
    {
      "cell_type": "code",
      "source": [],
      "metadata": {
        "id": "4VF9Z91XPs1V"
      },
      "execution_count": null,
      "outputs": []
    }
  ]
}