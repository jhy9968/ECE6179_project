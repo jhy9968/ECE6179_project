{
  "nbformat": 4,
  "nbformat_minor": 0,
  "metadata": {
    "colab": {
      "provenance": [],
      "authorship_tag": "ABX9TyOitgn7USbcSyE7R1XM3cMC",
      "include_colab_link": true
    },
    "kernelspec": {
      "name": "python3",
      "display_name": "Python 3"
    },
    "language_info": {
      "name": "python"
    }
  },
  "cells": [
    {
      "cell_type": "markdown",
      "metadata": {
        "id": "view-in-github",
        "colab_type": "text"
      },
      "source": [
        "<a href=\"https://colab.research.google.com/github/jhy9968/ECE6179_project/blob/main/Encoder_decoder_template.ipynb\" target=\"_parent\"><img src=\"https://colab.research.google.com/assets/colab-badge.svg\" alt=\"Open In Colab\"/></a>"
      ]
    },
    {
      "cell_type": "code",
      "execution_count": 57,
      "metadata": {
        "id": "GA68_ia-sESa"
      },
      "outputs": [],
      "source": [
        "import torch\n",
        "import torch.nn as nn\n",
        "from torchvision.models import resnet18\n",
        "from torchvision.models.resnet import ResNet18_Weights"
      ]
    },
    {
      "cell_type": "markdown",
      "source": [
        "**Encoder Decoder Class**"
      ],
      "metadata": {
        "id": "tnyVqzQhGxSV"
      }
    },
    {
      "cell_type": "code",
      "source": [
        "class Encoder(nn.Module):\n",
        "  def __init__ (self, base_model=resnet18(weights=ResNet18_Weights.IMAGENET1K_V1, progress=False)):\n",
        "    super(Encoder, self).__init__()\n",
        "    self.block1 = nn.Sequential(*list((base_model.children()))[:5])\n",
        "    self.block2 = nn.Sequential(*list((base_model.children()))[5])\n",
        "    self.block3 = nn.Sequential(*list((base_model.children()))[6])\n",
        "    self.block4 = nn.Sequential(*list((base_model.children()))[7])\n",
        "\n",
        "  def forward(self, x):\n",
        "    x = self.block1(x)\n",
        "    x = self.block2(x)\n",
        "    x = self.block3(x)\n",
        "    x = self.block4(x)\n",
        "    return x\n",
        "\n",
        "  def print_model(self):\n",
        "    print(self)\n",
        "\n",
        "  def freeze_param(self, block):\n",
        "    for i, child in enumerate(self.children()):\n",
        "      if i == block-1:\n",
        "        for param in child.parameters():\n",
        "          param.requires_grad = False\n",
        "    print('Freeze block '+str(block)+' parameters')\n",
        "\n",
        "  def unfreeze_param(self, block):\n",
        "    for i, child in enumerate(self.children()):\n",
        "      if i == block-1:\n",
        "        for param in child.parameters():\n",
        "          param.requires_grad = True\n",
        "    print('Unfreeze block '+str(block)+' parameters')"
      ],
      "metadata": {
        "id": "LmAp2PLY5Sco"
      },
      "execution_count": 62,
      "outputs": []
    },
    {
      "cell_type": "code",
      "source": [
        "class Decoder(nn.Module):\n",
        "  def __init__ (self, inplanes = 512, intMed_planes = 64):\n",
        "    super(Decoder, self).__init__()\n",
        "    self.inplanes      = inplanes\n",
        "    self.intMed_planes = intMed_planes\n",
        "\n",
        "    self.convTrans1 = nn.ConvTranspose2d(in_channels = self.inplanes, out_channels = self.intMed_planes, kernel_size = 3, stride = 2, padding = 1, output_padding=1)\n",
        "    self.conv2 = nn.Conv2d(in_channels = self.intMed_planes, out_channels = self.intMed_planes, kernel_size = 3, stride = 1, padding = 1)\n",
        "    self.convTrans3 = nn.ConvTranspose2d(in_channels = self.intMed_planes, out_channels = self.intMed_planes, kernel_size = 3, stride = 2, padding = 1, output_padding=1)\n",
        "    self.conv4 = nn.Conv2d(in_channels = self.intMed_planes, out_channels = 3, kernel_size = 3, stride = 1, padding = 1)\n",
        "\n",
        " # Output padding is here to match the size. It needs to be careful on this extra line of zeros when building the loss function.\n",
        "\n",
        "  def forward (self, x):\n",
        "    \n",
        "    x = self.convTrans1(x)\n",
        "    x = self.conv2(x)\n",
        "    x = self.convTrans3(x)\n",
        "    x = self.conv4(x)\n",
        "\n",
        "    return x"
      ],
      "metadata": {
        "id": "5CBc908_FaTy"
      },
      "execution_count": 63,
      "outputs": []
    },
    {
      "cell_type": "markdown",
      "source": [
        "**Encoder instructions**"
      ],
      "metadata": {
        "id": "e9fN_nFVG6rx"
      }
    },
    {
      "cell_type": "markdown",
      "source": [
        "Generate an encoder"
      ],
      "metadata": {
        "id": "lLCJwSYDHO7L"
      }
    },
    {
      "cell_type": "code",
      "source": [
        "encoder = Encoder()"
      ],
      "metadata": {
        "id": "jaVVUGJIs9J9"
      },
      "execution_count": 64,
      "outputs": []
    },
    {
      "cell_type": "markdown",
      "source": [
        "Print the encoder structure\n",
        "\n",
        "> Those four chunks are named as: blcok1, blcok2, blcok3 and blcok4\n",
        "\n",
        "\n",
        "\n"
      ],
      "metadata": {
        "id": "2k8ETphZHV8z"
      }
    },
    {
      "cell_type": "code",
      "source": [
        "encoder.print_model()"
      ],
      "metadata": {
        "colab": {
          "base_uri": "https://localhost:8080/"
        },
        "id": "wQJCCdmTFyhf",
        "outputId": "b8eea269-7a93-4eaf-8bda-aebf54288dde"
      },
      "execution_count": 65,
      "outputs": [
        {
          "output_type": "stream",
          "name": "stdout",
          "text": [
            "Encoder(\n",
            "  (block1): Sequential(\n",
            "    (0): Conv2d(3, 64, kernel_size=(7, 7), stride=(2, 2), padding=(3, 3), bias=False)\n",
            "    (1): BatchNorm2d(64, eps=1e-05, momentum=0.1, affine=True, track_running_stats=True)\n",
            "    (2): ReLU(inplace=True)\n",
            "    (3): MaxPool2d(kernel_size=3, stride=2, padding=1, dilation=1, ceil_mode=False)\n",
            "    (4): Sequential(\n",
            "      (0): BasicBlock(\n",
            "        (conv1): Conv2d(64, 64, kernel_size=(3, 3), stride=(1, 1), padding=(1, 1), bias=False)\n",
            "        (bn1): BatchNorm2d(64, eps=1e-05, momentum=0.1, affine=True, track_running_stats=True)\n",
            "        (relu): ReLU(inplace=True)\n",
            "        (conv2): Conv2d(64, 64, kernel_size=(3, 3), stride=(1, 1), padding=(1, 1), bias=False)\n",
            "        (bn2): BatchNorm2d(64, eps=1e-05, momentum=0.1, affine=True, track_running_stats=True)\n",
            "      )\n",
            "      (1): BasicBlock(\n",
            "        (conv1): Conv2d(64, 64, kernel_size=(3, 3), stride=(1, 1), padding=(1, 1), bias=False)\n",
            "        (bn1): BatchNorm2d(64, eps=1e-05, momentum=0.1, affine=True, track_running_stats=True)\n",
            "        (relu): ReLU(inplace=True)\n",
            "        (conv2): Conv2d(64, 64, kernel_size=(3, 3), stride=(1, 1), padding=(1, 1), bias=False)\n",
            "        (bn2): BatchNorm2d(64, eps=1e-05, momentum=0.1, affine=True, track_running_stats=True)\n",
            "      )\n",
            "    )\n",
            "  )\n",
            "  (block2): Sequential(\n",
            "    (0): BasicBlock(\n",
            "      (conv1): Conv2d(64, 128, kernel_size=(3, 3), stride=(2, 2), padding=(1, 1), bias=False)\n",
            "      (bn1): BatchNorm2d(128, eps=1e-05, momentum=0.1, affine=True, track_running_stats=True)\n",
            "      (relu): ReLU(inplace=True)\n",
            "      (conv2): Conv2d(128, 128, kernel_size=(3, 3), stride=(1, 1), padding=(1, 1), bias=False)\n",
            "      (bn2): BatchNorm2d(128, eps=1e-05, momentum=0.1, affine=True, track_running_stats=True)\n",
            "      (downsample): Sequential(\n",
            "        (0): Conv2d(64, 128, kernel_size=(1, 1), stride=(2, 2), bias=False)\n",
            "        (1): BatchNorm2d(128, eps=1e-05, momentum=0.1, affine=True, track_running_stats=True)\n",
            "      )\n",
            "    )\n",
            "    (1): BasicBlock(\n",
            "      (conv1): Conv2d(128, 128, kernel_size=(3, 3), stride=(1, 1), padding=(1, 1), bias=False)\n",
            "      (bn1): BatchNorm2d(128, eps=1e-05, momentum=0.1, affine=True, track_running_stats=True)\n",
            "      (relu): ReLU(inplace=True)\n",
            "      (conv2): Conv2d(128, 128, kernel_size=(3, 3), stride=(1, 1), padding=(1, 1), bias=False)\n",
            "      (bn2): BatchNorm2d(128, eps=1e-05, momentum=0.1, affine=True, track_running_stats=True)\n",
            "    )\n",
            "  )\n",
            "  (block3): Sequential(\n",
            "    (0): BasicBlock(\n",
            "      (conv1): Conv2d(128, 256, kernel_size=(3, 3), stride=(2, 2), padding=(1, 1), bias=False)\n",
            "      (bn1): BatchNorm2d(256, eps=1e-05, momentum=0.1, affine=True, track_running_stats=True)\n",
            "      (relu): ReLU(inplace=True)\n",
            "      (conv2): Conv2d(256, 256, kernel_size=(3, 3), stride=(1, 1), padding=(1, 1), bias=False)\n",
            "      (bn2): BatchNorm2d(256, eps=1e-05, momentum=0.1, affine=True, track_running_stats=True)\n",
            "      (downsample): Sequential(\n",
            "        (0): Conv2d(128, 256, kernel_size=(1, 1), stride=(2, 2), bias=False)\n",
            "        (1): BatchNorm2d(256, eps=1e-05, momentum=0.1, affine=True, track_running_stats=True)\n",
            "      )\n",
            "    )\n",
            "    (1): BasicBlock(\n",
            "      (conv1): Conv2d(256, 256, kernel_size=(3, 3), stride=(1, 1), padding=(1, 1), bias=False)\n",
            "      (bn1): BatchNorm2d(256, eps=1e-05, momentum=0.1, affine=True, track_running_stats=True)\n",
            "      (relu): ReLU(inplace=True)\n",
            "      (conv2): Conv2d(256, 256, kernel_size=(3, 3), stride=(1, 1), padding=(1, 1), bias=False)\n",
            "      (bn2): BatchNorm2d(256, eps=1e-05, momentum=0.1, affine=True, track_running_stats=True)\n",
            "    )\n",
            "  )\n",
            "  (block4): Sequential(\n",
            "    (0): BasicBlock(\n",
            "      (conv1): Conv2d(256, 512, kernel_size=(3, 3), stride=(2, 2), padding=(1, 1), bias=False)\n",
            "      (bn1): BatchNorm2d(512, eps=1e-05, momentum=0.1, affine=True, track_running_stats=True)\n",
            "      (relu): ReLU(inplace=True)\n",
            "      (conv2): Conv2d(512, 512, kernel_size=(3, 3), stride=(1, 1), padding=(1, 1), bias=False)\n",
            "      (bn2): BatchNorm2d(512, eps=1e-05, momentum=0.1, affine=True, track_running_stats=True)\n",
            "      (downsample): Sequential(\n",
            "        (0): Conv2d(256, 512, kernel_size=(1, 1), stride=(2, 2), bias=False)\n",
            "        (1): BatchNorm2d(512, eps=1e-05, momentum=0.1, affine=True, track_running_stats=True)\n",
            "      )\n",
            "    )\n",
            "    (1): BasicBlock(\n",
            "      (conv1): Conv2d(512, 512, kernel_size=(3, 3), stride=(1, 1), padding=(1, 1), bias=False)\n",
            "      (bn1): BatchNorm2d(512, eps=1e-05, momentum=0.1, affine=True, track_running_stats=True)\n",
            "      (relu): ReLU(inplace=True)\n",
            "      (conv2): Conv2d(512, 512, kernel_size=(3, 3), stride=(1, 1), padding=(1, 1), bias=False)\n",
            "      (bn2): BatchNorm2d(512, eps=1e-05, momentum=0.1, affine=True, track_running_stats=True)\n",
            "    )\n",
            "  )\n",
            ")\n"
          ]
        }
      ]
    },
    {
      "cell_type": "markdown",
      "source": [
        "Freeze or unfreeze a block of the encoder"
      ],
      "metadata": {
        "id": "FNNtY117IVjq"
      }
    },
    {
      "cell_type": "code",
      "source": [
        "# To freeze a block, call encoder.freeze_param() with the ID of that block (1 to 4)\n",
        "\n",
        "# e.g., to freeze the block2\n",
        "encoder.freeze_param(2)"
      ],
      "metadata": {
        "colab": {
          "base_uri": "https://localhost:8080/"
        },
        "id": "EygqrPZgDwFD",
        "outputId": "94dd549c-4fe8-4cfe-a9a3-544fe018e045"
      },
      "execution_count": 52,
      "outputs": [
        {
          "output_type": "stream",
          "name": "stdout",
          "text": [
            "Freeze block 2 parameters\n"
          ]
        }
      ]
    },
    {
      "cell_type": "code",
      "source": [
        "# To unfreeze a block, call encoder.unfreeze_param() with the ID of that block (1 to 4)\n",
        "\n",
        "# e.g., to freeze the block2\n",
        "encoder.unfreeze_param(2)"
      ],
      "metadata": {
        "colab": {
          "base_uri": "https://localhost:8080/"
        },
        "id": "iq9Md3MLFLXV",
        "outputId": "ee21f3a0-e723-490e-b015-7586f2cb8e19"
      },
      "execution_count": 66,
      "outputs": [
        {
          "output_type": "stream",
          "name": "stdout",
          "text": [
            "Unfreeze block 2 parameters\n"
          ]
        }
      ]
    },
    {
      "cell_type": "markdown",
      "source": [
        "For the autoencoder, call something like:\n",
        "\n",
        "```\n",
        "autoencoder.encoder.freeze_param(block_ID)\n",
        "autoencoder.encoder.unfreeze_param(block_ID)\n",
        "```\n",
        "\n"
      ],
      "metadata": {
        "id": "m0wNeG6UJFzh"
      }
    },
    {
      "cell_type": "code",
      "source": [],
      "metadata": {
        "id": "SivLa4kcC--_"
      },
      "execution_count": null,
      "outputs": []
    }
  ]
}