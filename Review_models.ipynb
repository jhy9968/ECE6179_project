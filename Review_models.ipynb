{
  "nbformat": 4,
  "nbformat_minor": 0,
  "metadata": {
    "colab": {
      "provenance": [],
      "authorship_tag": "ABX9TyNPbg6z2m30i5Nsd2Wq1+p9",
      "include_colab_link": true
    },
    "kernelspec": {
      "name": "python3",
      "display_name": "Python 3"
    },
    "language_info": {
      "name": "python"
    },
    "widgets": {
      "application/vnd.jupyter.widget-state+json": {
        "c86d45b6a7444842a8e350267b39f29e": {
          "model_module": "@jupyter-widgets/controls",
          "model_name": "HBoxModel",
          "model_module_version": "1.5.0",
          "state": {
            "_dom_classes": [],
            "_model_module": "@jupyter-widgets/controls",
            "_model_module_version": "1.5.0",
            "_model_name": "HBoxModel",
            "_view_count": null,
            "_view_module": "@jupyter-widgets/controls",
            "_view_module_version": "1.5.0",
            "_view_name": "HBoxView",
            "box_style": "",
            "children": [
              "IPY_MODEL_ef27eb6f2734481aae88e2ab337264f0",
              "IPY_MODEL_b1fb8fd7e5b741dfb2acaba594cf0ccd",
              "IPY_MODEL_a056445919614349868da8e524508b93"
            ],
            "layout": "IPY_MODEL_63bbe3efcb6b4e5291ce73bb9e01e473"
          }
        },
        "ef27eb6f2734481aae88e2ab337264f0": {
          "model_module": "@jupyter-widgets/controls",
          "model_name": "HTMLModel",
          "model_module_version": "1.5.0",
          "state": {
            "_dom_classes": [],
            "_model_module": "@jupyter-widgets/controls",
            "_model_module_version": "1.5.0",
            "_model_name": "HTMLModel",
            "_view_count": null,
            "_view_module": "@jupyter-widgets/controls",
            "_view_module_version": "1.5.0",
            "_view_name": "HTMLView",
            "description": "",
            "description_tooltip": null,
            "layout": "IPY_MODEL_ab7a64c382ca460fbefc9a6d848bd1a8",
            "placeholder": "​",
            "style": "IPY_MODEL_b7edb560b5654f2eb2ad2e06e61238c0",
            "value": "Testing DataLoader 0: 100%"
          }
        },
        "b1fb8fd7e5b741dfb2acaba594cf0ccd": {
          "model_module": "@jupyter-widgets/controls",
          "model_name": "FloatProgressModel",
          "model_module_version": "1.5.0",
          "state": {
            "_dom_classes": [],
            "_model_module": "@jupyter-widgets/controls",
            "_model_module_version": "1.5.0",
            "_model_name": "FloatProgressModel",
            "_view_count": null,
            "_view_module": "@jupyter-widgets/controls",
            "_view_module_version": "1.5.0",
            "_view_name": "ProgressView",
            "bar_style": "success",
            "description": "",
            "description_tooltip": null,
            "layout": "IPY_MODEL_5935050ab9ac4cb5a9785e621a5e3908",
            "max": 63,
            "min": 0,
            "orientation": "horizontal",
            "style": "IPY_MODEL_39c109ba60f84eff89cf9e9ef6cdd2b7",
            "value": 63
          }
        },
        "a056445919614349868da8e524508b93": {
          "model_module": "@jupyter-widgets/controls",
          "model_name": "HTMLModel",
          "model_module_version": "1.5.0",
          "state": {
            "_dom_classes": [],
            "_model_module": "@jupyter-widgets/controls",
            "_model_module_version": "1.5.0",
            "_model_name": "HTMLModel",
            "_view_count": null,
            "_view_module": "@jupyter-widgets/controls",
            "_view_module_version": "1.5.0",
            "_view_name": "HTMLView",
            "description": "",
            "description_tooltip": null,
            "layout": "IPY_MODEL_d8e5447d9f6c421ba98fc318938811d0",
            "placeholder": "​",
            "style": "IPY_MODEL_c0cde8dfdd194d0db4257affff54c23c",
            "value": " 63/63 [00:51&lt;00:00,  1.23it/s]"
          }
        },
        "63bbe3efcb6b4e5291ce73bb9e01e473": {
          "model_module": "@jupyter-widgets/base",
          "model_name": "LayoutModel",
          "model_module_version": "1.2.0",
          "state": {
            "_model_module": "@jupyter-widgets/base",
            "_model_module_version": "1.2.0",
            "_model_name": "LayoutModel",
            "_view_count": null,
            "_view_module": "@jupyter-widgets/base",
            "_view_module_version": "1.2.0",
            "_view_name": "LayoutView",
            "align_content": null,
            "align_items": null,
            "align_self": null,
            "border": null,
            "bottom": null,
            "display": "inline-flex",
            "flex": null,
            "flex_flow": "row wrap",
            "grid_area": null,
            "grid_auto_columns": null,
            "grid_auto_flow": null,
            "grid_auto_rows": null,
            "grid_column": null,
            "grid_gap": null,
            "grid_row": null,
            "grid_template_areas": null,
            "grid_template_columns": null,
            "grid_template_rows": null,
            "height": null,
            "justify_content": null,
            "justify_items": null,
            "left": null,
            "margin": null,
            "max_height": null,
            "max_width": null,
            "min_height": null,
            "min_width": null,
            "object_fit": null,
            "object_position": null,
            "order": null,
            "overflow": null,
            "overflow_x": null,
            "overflow_y": null,
            "padding": null,
            "right": null,
            "top": null,
            "visibility": null,
            "width": "100%"
          }
        },
        "ab7a64c382ca460fbefc9a6d848bd1a8": {
          "model_module": "@jupyter-widgets/base",
          "model_name": "LayoutModel",
          "model_module_version": "1.2.0",
          "state": {
            "_model_module": "@jupyter-widgets/base",
            "_model_module_version": "1.2.0",
            "_model_name": "LayoutModel",
            "_view_count": null,
            "_view_module": "@jupyter-widgets/base",
            "_view_module_version": "1.2.0",
            "_view_name": "LayoutView",
            "align_content": null,
            "align_items": null,
            "align_self": null,
            "border": null,
            "bottom": null,
            "display": null,
            "flex": null,
            "flex_flow": null,
            "grid_area": null,
            "grid_auto_columns": null,
            "grid_auto_flow": null,
            "grid_auto_rows": null,
            "grid_column": null,
            "grid_gap": null,
            "grid_row": null,
            "grid_template_areas": null,
            "grid_template_columns": null,
            "grid_template_rows": null,
            "height": null,
            "justify_content": null,
            "justify_items": null,
            "left": null,
            "margin": null,
            "max_height": null,
            "max_width": null,
            "min_height": null,
            "min_width": null,
            "object_fit": null,
            "object_position": null,
            "order": null,
            "overflow": null,
            "overflow_x": null,
            "overflow_y": null,
            "padding": null,
            "right": null,
            "top": null,
            "visibility": null,
            "width": null
          }
        },
        "b7edb560b5654f2eb2ad2e06e61238c0": {
          "model_module": "@jupyter-widgets/controls",
          "model_name": "DescriptionStyleModel",
          "model_module_version": "1.5.0",
          "state": {
            "_model_module": "@jupyter-widgets/controls",
            "_model_module_version": "1.5.0",
            "_model_name": "DescriptionStyleModel",
            "_view_count": null,
            "_view_module": "@jupyter-widgets/base",
            "_view_module_version": "1.2.0",
            "_view_name": "StyleView",
            "description_width": ""
          }
        },
        "5935050ab9ac4cb5a9785e621a5e3908": {
          "model_module": "@jupyter-widgets/base",
          "model_name": "LayoutModel",
          "model_module_version": "1.2.0",
          "state": {
            "_model_module": "@jupyter-widgets/base",
            "_model_module_version": "1.2.0",
            "_model_name": "LayoutModel",
            "_view_count": null,
            "_view_module": "@jupyter-widgets/base",
            "_view_module_version": "1.2.0",
            "_view_name": "LayoutView",
            "align_content": null,
            "align_items": null,
            "align_self": null,
            "border": null,
            "bottom": null,
            "display": null,
            "flex": "2",
            "flex_flow": null,
            "grid_area": null,
            "grid_auto_columns": null,
            "grid_auto_flow": null,
            "grid_auto_rows": null,
            "grid_column": null,
            "grid_gap": null,
            "grid_row": null,
            "grid_template_areas": null,
            "grid_template_columns": null,
            "grid_template_rows": null,
            "height": null,
            "justify_content": null,
            "justify_items": null,
            "left": null,
            "margin": null,
            "max_height": null,
            "max_width": null,
            "min_height": null,
            "min_width": null,
            "object_fit": null,
            "object_position": null,
            "order": null,
            "overflow": null,
            "overflow_x": null,
            "overflow_y": null,
            "padding": null,
            "right": null,
            "top": null,
            "visibility": null,
            "width": null
          }
        },
        "39c109ba60f84eff89cf9e9ef6cdd2b7": {
          "model_module": "@jupyter-widgets/controls",
          "model_name": "ProgressStyleModel",
          "model_module_version": "1.5.0",
          "state": {
            "_model_module": "@jupyter-widgets/controls",
            "_model_module_version": "1.5.0",
            "_model_name": "ProgressStyleModel",
            "_view_count": null,
            "_view_module": "@jupyter-widgets/base",
            "_view_module_version": "1.2.0",
            "_view_name": "StyleView",
            "bar_color": null,
            "description_width": ""
          }
        },
        "d8e5447d9f6c421ba98fc318938811d0": {
          "model_module": "@jupyter-widgets/base",
          "model_name": "LayoutModel",
          "model_module_version": "1.2.0",
          "state": {
            "_model_module": "@jupyter-widgets/base",
            "_model_module_version": "1.2.0",
            "_model_name": "LayoutModel",
            "_view_count": null,
            "_view_module": "@jupyter-widgets/base",
            "_view_module_version": "1.2.0",
            "_view_name": "LayoutView",
            "align_content": null,
            "align_items": null,
            "align_self": null,
            "border": null,
            "bottom": null,
            "display": null,
            "flex": null,
            "flex_flow": null,
            "grid_area": null,
            "grid_auto_columns": null,
            "grid_auto_flow": null,
            "grid_auto_rows": null,
            "grid_column": null,
            "grid_gap": null,
            "grid_row": null,
            "grid_template_areas": null,
            "grid_template_columns": null,
            "grid_template_rows": null,
            "height": null,
            "justify_content": null,
            "justify_items": null,
            "left": null,
            "margin": null,
            "max_height": null,
            "max_width": null,
            "min_height": null,
            "min_width": null,
            "object_fit": null,
            "object_position": null,
            "order": null,
            "overflow": null,
            "overflow_x": null,
            "overflow_y": null,
            "padding": null,
            "right": null,
            "top": null,
            "visibility": null,
            "width": null
          }
        },
        "c0cde8dfdd194d0db4257affff54c23c": {
          "model_module": "@jupyter-widgets/controls",
          "model_name": "DescriptionStyleModel",
          "model_module_version": "1.5.0",
          "state": {
            "_model_module": "@jupyter-widgets/controls",
            "_model_module_version": "1.5.0",
            "_model_name": "DescriptionStyleModel",
            "_view_count": null,
            "_view_module": "@jupyter-widgets/base",
            "_view_module_version": "1.2.0",
            "_view_name": "StyleView",
            "description_width": ""
          }
        }
      }
    }
  },
  "cells": [
    {
      "cell_type": "markdown",
      "metadata": {
        "id": "view-in-github",
        "colab_type": "text"
      },
      "source": [
        "<a href=\"https://colab.research.google.com/github/jhy9968/ECE6179_project/blob/main/Review_models.ipynb\" target=\"_parent\"><img src=\"https://colab.research.google.com/assets/colab-badge.svg\" alt=\"Open In Colab\"/></a>"
      ]
    },
    {
      "cell_type": "code",
      "execution_count": 7,
      "metadata": {
        "colab": {
          "base_uri": "https://localhost:8080/"
        },
        "id": "uFBpiWvvDE4N",
        "outputId": "ffecca83-0fd7-4c44-8221-6c5adb903222"
      },
      "outputs": [
        {
          "output_type": "stream",
          "name": "stdout",
          "text": [
            "Looking in indexes: https://pypi.org/simple, https://us-python.pkg.dev/colab-wheels/public/simple/\n",
            "Requirement already satisfied: torchmetrics in /usr/local/lib/python3.7/dist-packages (0.10.0)\n",
            "Requirement already satisfied: numpy>=1.17.2 in /usr/local/lib/python3.7/dist-packages (from torchmetrics) (1.21.6)\n",
            "Requirement already satisfied: typing-extensions in /usr/local/lib/python3.7/dist-packages (from torchmetrics) (4.1.1)\n",
            "Requirement already satisfied: torch>=1.3.1 in /usr/local/lib/python3.7/dist-packages (from torchmetrics) (1.12.1+cu113)\n",
            "Requirement already satisfied: packaging in /usr/local/lib/python3.7/dist-packages (from torchmetrics) (21.3)\n",
            "Requirement already satisfied: pyparsing!=3.0.5,>=2.0.2 in /usr/local/lib/python3.7/dist-packages (from packaging->torchmetrics) (3.0.9)\n",
            "Drive already mounted at /content/drive/; to attempt to forcibly remount, call drive.mount(\"/content/drive/\", force_remount=True).\n"
          ]
        }
      ],
      "source": [
        "! pip install --quiet \"matplotlib\" \"pytorch-lightning\" \"pandas\" \"torchmetrics\"\n",
        "import matplotlib.pyplot as plt\n",
        "import pytorch_lightning as pl\n",
        "from torch import Tensor\n",
        "import torch.nn as nn\n",
        "from pytorch_lightning import LightningModule, Trainer\n",
        "from pytorch_lightning.callbacks.progress import TQDMProgressBar\n",
        "from pytorch_lightning.loggers import CSVLogger\n",
        "from torch.nn import functional as F\n",
        "from torchmetrics import MeanSquaredError\n",
        "from pytorch_lightning.callbacks import Callback, ModelCheckpoint\n",
        "import torchvision.models.resnet as RN\n",
        "\n",
        "from torchvision.models import resnet18\n",
        "from torchvision.models.resnet import ResNet18_Weights\n",
        "\n",
        "from torch.utils.data import Dataset\n",
        "from torch.utils.data import DataLoader\n",
        "\n",
        "import os\n",
        "import torch\n",
        "from torchvision.datasets import STL10 as STL10\n",
        "import torchvision.transforms as transforms\n",
        "from torch.utils.data import random_split\n",
        "!pip install torchmetrics\n",
        "from torchmetrics import Accuracy\n",
        "import torchvision\n",
        "from torch.utils.tensorboard import SummaryWriter\n",
        "from datetime import datetime\n",
        "from google.colab import drive\n",
        "drive.mount('/content/drive/')\n",
        "\n",
        "####### CHANGE TO APPROPRIATE DIRECTORY TO STORE DATASET\n",
        "root_dir = \"/content/drive/Shareddrives/ECE6179_project/\"\n",
        "dataset_dir = root_dir + \"CNN-VAE/data/\"\n",
        "#For MonARCH\n",
        "# dataset_dir = \"/mnt/lustre/projects/ds19/SHARED\"\n",
        "\n",
        "#All images are 3x96x96\n",
        "image_size = 96\n",
        "#Example batch size\n",
        "batch_size = 32"
      ]
    },
    {
      "cell_type": "code",
      "execution_count": null,
      "metadata": {
        "id": "7wXg8yiPDE4Q"
      },
      "outputs": [],
      "source": [
        "#No random \n",
        "transform_test = transforms.Compose(\n",
        "    [transforms.CenterCrop(image_size),\n",
        "     transforms.ToTensor(),\n",
        "     transforms.Normalize((0.5, 0.5, 0.5), (0.5, 0.5, 0.5))])"
      ]
    },
    {
      "cell_type": "code",
      "execution_count": null,
      "metadata": {
        "colab": {
          "base_uri": "https://localhost:8080/"
        },
        "id": "7rgiNAlXDE4T",
        "outputId": "dbd4ce60-3351-41da-ca7d-e5b9d22286e6"
      },
      "outputs": [
        {
          "output_type": "stream",
          "name": "stdout",
          "text": [
            "Files already downloaded and verified\n"
          ]
        }
      ],
      "source": [
        "#Load test set\n",
        "test_set = STL10(dataset_dir, split='test', transform=transform_test, download=True)"
      ]
    },
    {
      "cell_type": "code",
      "execution_count": null,
      "metadata": {
        "id": "qVrmhgwmDE4X",
        "outputId": "82d93370-ff7b-4966-ea4a-38987175a39c",
        "colab": {
          "base_uri": "https://localhost:8080/"
        }
      },
      "outputs": [
        {
          "output_type": "stream",
          "name": "stdout",
          "text": [
            "Size of test loader: 63\n"
          ]
        }
      ],
      "source": [
        "batch_size = 128\n",
        "test_loader  = DataLoader(test_set, batch_size=batch_size)\n",
        "print('Size of test loader:', len(test_loader))"
      ]
    },
    {
      "cell_type": "code",
      "source": [
        "# Load the TensorBoard notebook extension\n",
        "%load_ext tensorboard\n",
        "\n",
        "device = torch.device(\"cuda:0\" if torch.cuda.is_available() else \"cpu\")\n",
        "print(device)"
      ],
      "metadata": {
        "id": "NwWBSwHuQXYr",
        "outputId": "47b6afb7-69b2-4aa1-8822-10584e4174d8",
        "colab": {
          "base_uri": "https://localhost:8080/"
        }
      },
      "execution_count": 2,
      "outputs": [
        {
          "output_type": "stream",
          "name": "stdout",
          "text": [
            "cpu\n"
          ]
        }
      ]
    },
    {
      "cell_type": "markdown",
      "source": [
        "# Model classes"
      ],
      "metadata": {
        "id": "9o4nOmFduTfn"
      }
    },
    {
      "cell_type": "code",
      "source": [
        "class Encoder(nn.Module):\n",
        "  def __init__ (self, base_model=resnet18(weights=ResNet18_Weights.IMAGENET1K_V1, progress=False)):\n",
        "    super(Encoder, self).__init__()\n",
        "    self.block1 = nn.Sequential(*list((base_model.children()))[:5])\n",
        "    self.block2 = nn.Sequential(*list((base_model.children()))[5])\n",
        "    # self.block3 = nn.Sequential(*list((base_model.children()))[6])\n",
        "    # self.block4 = nn.Sequential(*list((base_model.children()))[7])\n",
        "\n",
        "  def forward(self, x):\n",
        "    x = self.block1(x)\n",
        "    x = self.block2(x)\n",
        "    # x = self.block3(x)\n",
        "    # x = self.block4(x)\n",
        "    return x\n",
        "\n",
        "  def print_model(self):\n",
        "    print(self)\n",
        "\n",
        "  def freeze_param(self, block):\n",
        "    for i, child in enumerate(self.children()):\n",
        "      # print(i)\n",
        "      if i == block-1:\n",
        "        for param in child.parameters():\n",
        "          param.requires_grad = False\n",
        "          # print(param.shape)\n",
        "    print('Freeze block '+str(block)+' parameters')\n",
        "    \n",
        "  def unfreeze_param(self, block):\n",
        "    for i, child in enumerate(self.children()):\n",
        "      if i == block-1:\n",
        "        for param in child.parameters():\n",
        "          param.requires_grad = True\n",
        "    print('Unfreeze block '+str(block)+' parameters')"
      ],
      "metadata": {
        "id": "gxFHtSaYWbAV",
        "outputId": "18fb8b04-961e-4a8a-9d60-4f1b2dd87867",
        "colab": {
          "base_uri": "https://localhost:8080/"
        }
      },
      "execution_count": null,
      "outputs": [
        {
          "output_type": "stream",
          "name": "stderr",
          "text": [
            "Downloading: \"https://download.pytorch.org/models/resnet18-f37072fd.pth\" to /root/.cache/torch/hub/checkpoints/resnet18-f37072fd.pth\n"
          ]
        }
      ]
    },
    {
      "cell_type": "code",
      "source": [
        "class Decoder(nn.Module):  # Fixed inpplanes\n",
        "  def __init__ (self, inplanes = 128, intMed_planes = 64):\n",
        "    super(Decoder, self).__init__()\n",
        "    self.inplanes      = inplanes\n",
        "    self.intMed_planes = intMed_planes\n",
        "\n",
        "    # self.convTrans1 = nn.ConvTranspose2d(in_channels = 512, out_channels = 256, kernel_size = 3, stride = 2, padding = 1, output_padding=1)\n",
        "    # self.conv2 = nn.Conv2d(in_channels = 256, out_channels = 256, kernel_size = 3, stride = 1, padding = 1)\n",
        "    # self.convTrans3 = nn.ConvTranspose2d(in_channels = 256, out_channels = 128, kernel_size = 3, stride = 2, padding = 1, output_padding=1)\n",
        "    # self.conv4 = nn.Conv2d(in_channels = 128, out_channels = 128, kernel_size = 3, stride = 1, padding = 1)\n",
        "    self.convTrans5 = nn.ConvTranspose2d(in_channels = 128, out_channels = 64, kernel_size = 3, stride = 2, padding = 1, output_padding=1)\n",
        "    self.conv6 = nn.Conv2d(in_channels = 64, out_channels = 64, kernel_size = 3, stride = 1, padding = 1)   \n",
        "    self.convTrans7 = nn.ConvTranspose2d(in_channels = 64, out_channels = 64, kernel_size = 3, stride = 2, padding = 1, output_padding=1)\n",
        "    self.conv8 = nn.Conv2d(in_channels = 64, out_channels = 64, kernel_size = 3, stride = 1, padding = 1)\n",
        "    self.convTrans9 = nn.ConvTranspose2d(in_channels = 64, out_channels = 64, kernel_size = 3, stride = 2, padding = 1, output_padding=1)\n",
        "    self.conv10 = nn.Conv2d(in_channels = 64, out_channels = 3, kernel_size = 3, stride = 1, padding = 1)   \n",
        "\n",
        " # Output padding is here to match the size. It needs to be careful on this extra line of zeros when building the loss function.\n",
        "\n",
        "  def forward (self, x):\n",
        "    \n",
        "    # x = self.convTrans1(x)\n",
        "    # x = self.conv2(x)\n",
        "    # x = self.convTrans3(x)\n",
        "    # x = self.conv4(x)\n",
        "    x = self.convTrans5(x)\n",
        "    x = self.conv6(x)\n",
        "    x = self.convTrans7(x)\n",
        "    x = self.conv8(x)\n",
        "    x = self.convTrans9(x)\n",
        "    x = self.conv10(x)\n",
        "\n",
        "    return x"
      ],
      "metadata": {
        "id": "AyLshQU3wWLu"
      },
      "execution_count": null,
      "outputs": []
    },
    {
      "cell_type": "code",
      "source": [
        "class AutoEncoder(LightningModule):\n",
        "  def __init__ (self, learning_rate = 1e-4, encoder=Encoder(), decoder=Decoder(), trainDataLoader=None, valDataLoader=None, testDataLoader=None):\n",
        "    super().__init__()\n",
        "\n",
        "    self.learning_rate = learning_rate\n",
        "    self.loss_fun = nn.MSELoss()\n",
        "\n",
        "    self.Encoder = encoder\n",
        "    self.Decoder = decoder\n",
        "\n",
        "    self.train_accuracy = MeanSquaredError()\n",
        "    self.vald_accuracy = MeanSquaredError()\n",
        "    self.test_accuracy = MeanSquaredError()\n",
        "\n",
        "    self.trainDataLoader = trainDataLoader\n",
        "    self.valDataLoader = valDataLoader\n",
        "    self.testDataLoader = testDataLoader\n",
        "\n",
        "    if not os.path.isdir(full_dir + 'runs/'):\n",
        "      os.mkdir(full_dir + 'runs/')\n",
        "    self.writer = SummaryWriter(full_dir + 'runs/')\n",
        "    \n",
        "  def forward(self, x):\n",
        "    out = self.Encoder(x)\n",
        "    out = self.Decoder(out)\n",
        "    out_flattened = out.view(x.shape[0], -1)\n",
        "    return out_flattened\n",
        "\n",
        "  def training_step(self, batch, batch_idx):\n",
        "    x, y = batch\n",
        "    logits = self.forward(x)\n",
        "    x_flattened = x.view(x.shape[0], -1)\n",
        "\n",
        "    loss = self.loss_fun(logits, x_flattened)\n",
        "    self.log(\"train_loss\", loss, prog_bar=True, on_step=False, on_epoch=True)\n",
        "    #self.log(\"train_acc\", self.train_accuracy, prog_bar=True, on_step=False, on_epoch=True)\n",
        "\n",
        "    self.writer.add_scalars('Loss', {'Training' : loss}, self.current_epoch)\n",
        "\n",
        "    return loss\n",
        "\n",
        "  def validation_step(self, batch, batch_idx):\n",
        "    x, y = batch\n",
        "    logits = self.forward(x)\n",
        "    x_flattened = x.view(x.shape[0], -1)\n",
        "\n",
        "    loss = self.loss_fun(logits, x_flattened)\n",
        "    self.log(\"val_loss\", loss, prog_bar=True, on_step=False, on_epoch=True)\n",
        "    #self.log(\"val_acc\", self.val_accuracy, prog_bar=True, on_step=False, on_epoch=True) \n",
        "\n",
        "    self.writer.add_scalars('Loss', {'Validation' : loss}, self.current_epoch)\n",
        "  \n",
        "  def test_step(self, batch, batch_idx):\n",
        "    x, y = batch\n",
        "    logits = self.forward(x)\n",
        "    x_flattened = x.view(x.shape[0], -1)\n",
        "\n",
        "    loss = self.loss_fun(logits, x_flattened)\n",
        "    self.log(\"test_loss\", loss, prog_bar=True, on_step=False, on_epoch=True)\n",
        "    #self.log(\"test_acc\", self.test_accuracy, prog_bar=True, on_step=False, on_epoch=True) \n",
        "\n",
        "  def configure_optimizers(self):\n",
        "    optimizer = torch.optim.Adam(self.parameters(), lr=self.learning_rate)\n",
        "\n",
        "    return optimizer\n",
        "  \n",
        "  def train_dataloader(self):    \n",
        "    return self.trainDataLoader\n",
        "  \n",
        "  def val_dataloader(self):\n",
        "    return self.valDataLoader\n",
        "  \n",
        "  def test_dataloader(self):\n",
        "    return self.testDataLoader\n",
        "\n",
        "  def extractSubModules(self):\n",
        "    return self.Encoder, self.Decoder"
      ],
      "metadata": {
        "id": "_X44bZjh22pZ"
      },
      "execution_count": null,
      "outputs": []
    },
    {
      "cell_type": "code",
      "source": [
        "class AutoEncoder_Classifier(LightningModule):\n",
        "  def __init__ (self, learning_rate = 1e-3, \n",
        "                enc=None, \n",
        "                trainDataLoader=None, \n",
        "                valDataLoader=None, \n",
        "                testDataLoader=test_loader):\n",
        "    \n",
        "    super().__init__()\n",
        "\n",
        "    self.learning_rate = learning_rate\n",
        "    self.loss_fun = nn.CrossEntropyLoss()\n",
        "\n",
        "    self.Encoder = enc\n",
        "\n",
        "    self.act     = F.relu\n",
        "    self.GAP     = nn.AdaptiveAvgPool2d(3)\n",
        "    self.linear1 = nn.Linear(128*9, 128)\n",
        "    self.linear2 = nn.Linear(128, 10)\n",
        "\n",
        "    self.train_accuracy = Accuracy()\n",
        "    self.val_accuracy = Accuracy()\n",
        "    self.test_accuracy = Accuracy()\n",
        "\n",
        "    self.trainDataLoader = trainDataLoader\n",
        "    self.valDataLoader = valDataLoader\n",
        "    self.testDataLoader = testDataLoader\n",
        "\n",
        "    if not os.path.isdir(full_dir + 'runs/'):\n",
        "      os.mkdir(full_dir + 'runs/')\n",
        "    self.writer = SummaryWriter(full_dir + 'runs/')\n",
        "    \n",
        "\n",
        "  def forward(self, x):\n",
        "    out = self.Encoder(x)\n",
        "    out = self.GAP(out)\n",
        "    out = out.view(out.shape[0], -1)\n",
        "    out = self.linear1(out)\n",
        "    out = self.act(out)\n",
        "    out = self.linear2(out) \n",
        "\n",
        "    return out\n",
        "\n",
        "  def training_step(self, batch, batch_idx):\n",
        "    x, y = batch\n",
        "    logits = self.forward(x)\n",
        "    loss = self.loss_fun(logits, y)\n",
        "\n",
        "    preds = logits.argmax(1)\n",
        "    self.train_accuracy.update(preds, y)\n",
        "\n",
        "    self.log(\"train_loss\", loss, prog_bar=True, on_step=False, on_epoch=True)\n",
        "    self.log(\"train_acc\", self.train_accuracy, prog_bar=True, on_step=False, on_epoch=True)\n",
        "\n",
        "    self.writer.add_scalars('Loss', {'Training' : loss}, self.current_epoch)\n",
        "    self.writer.add_scalars('Acc', {'Training' : self.train_accuracy.compute()}, self.current_epoch)\n",
        "    self.writer.flush()\n",
        "\n",
        "    return loss\n",
        "\n",
        "  def validation_step(self, batch, batch_idx):\n",
        "    x, y = batch\n",
        "    logits = self.forward(x)\n",
        "    loss = self.loss_fun(logits, y)\n",
        "\n",
        "    preds = logits.argmax(1)\n",
        "    self.val_accuracy.update(preds, y)\n",
        "    self.log(\"val_loss\", loss, prog_bar=True, on_step=False, on_epoch=True)\n",
        "    self.log(\"val_acc\", self.val_accuracy, prog_bar=True, on_step=False, on_epoch=True) \n",
        "\n",
        "    self.writer.add_scalars('Loss', {'Validation' : loss}, self.current_epoch)\n",
        "    self.writer.add_scalars('Acc', {'Validation' : self.val_accuracy.compute()}, self.current_epoch)\n",
        "    self.writer.flush()\n",
        "  \n",
        "  def test_step(self, batch, batch_idx):\n",
        "    x, y = batch\n",
        "    logits = self.forward(x)\n",
        "    loss = self.loss_fun(logits, y)\n",
        "\n",
        "    preds = logits.argmax(1)\n",
        "    self.test_accuracy.update(preds, y)\n",
        "    self.log(\"test_loss\", loss, prog_bar=True, on_step=False, on_epoch=True)\n",
        "    self.log(\"test_acc\", self.test_accuracy, prog_bar=True, on_step=False, on_epoch=True) \n",
        "\n",
        "  def configure_optimizers(self):\n",
        "\n",
        "    optimizer = torch.optim.Adam(params=self.parameters(), lr=self.learning_rate)\n",
        "\n",
        "    return optimizer\n",
        "  \n",
        "  def train_dataloader(self):    \n",
        "    return self.trainDataLoader\n",
        "  \n",
        "  def val_dataloader(self):\n",
        "    return self.valDataLoader\n",
        "  \n",
        "  def test_dataloader(self):\n",
        "    return self.testDataLoader\n",
        "\n",
        "  def extractSubModules(self):\n",
        "    return self.Encoder, self.linear1, self.linear2"
      ],
      "metadata": {
        "id": "wSBMN0cirnCR"
      },
      "execution_count": null,
      "outputs": []
    },
    {
      "cell_type": "markdown",
      "source": [
        "# Testing"
      ],
      "metadata": {
        "id": "_pyXdVgAJqnQ"
      }
    },
    {
      "cell_type": "code",
      "source": [
        "# enc_statdic = torch.load(\"/content/drive/Shareddrives/ECE6179_project/2_blocks_inherit/stage1_target/Models/20221008053623_enc.pth\")\n",
        "encoder = Encoder()\n",
        "# encoder.load_state_dict(enc_statdic)\n",
        "\n",
        "Case_Dir = \"2_blocks_with_trainset/stage2/\"\n",
        "full_dir = root_dir + Case_Dir\n",
        "if not os.path.isdir(full_dir):\n",
        "  os.makedirs(full_dir)\n",
        "\n",
        "AEC = AutoEncoder_Classifier(learning_rate = 5e-5, enc=encoder, trainDataLoader=None, valDataLoader=None, testDataLoader=test_loader)\n",
        "\n",
        "trainer_AE_Classfier = Trainer(\n",
        "    accelerator=\"auto\",\n",
        "    devices = 1 if torch.cuda.is_available() else None,\n",
        "    max_epochs = 200,\n",
        "    callbacks = [TQDMProgressBar(refresh_rate=20)],\n",
        "    logger=CSVLogger(save_dir= full_dir),\n",
        "    deterministic=False,\n",
        "    log_every_n_steps=10\n",
        "    )\n",
        "\n",
        "ckpt_path = \"/content/drive/Shareddrives/ECE6179_project/2_blocks_inherit/stage2_target/epoch=147-step=592.ckpt\"\n",
        "\n",
        "trainer_AE_Classfier.test(model=AEC, dataloaders=test_loader, ckpt_path=ckpt_path)"
      ],
      "metadata": {
        "id": "dNtG0hYgJpgY",
        "outputId": "346046d8-6437-4c9b-c625-5ce9848f77f1",
        "colab": {
          "base_uri": "https://localhost:8080/",
          "height": 295,
          "referenced_widgets": [
            "c86d45b6a7444842a8e350267b39f29e",
            "ef27eb6f2734481aae88e2ab337264f0",
            "b1fb8fd7e5b741dfb2acaba594cf0ccd",
            "a056445919614349868da8e524508b93",
            "63bbe3efcb6b4e5291ce73bb9e01e473",
            "ab7a64c382ca460fbefc9a6d848bd1a8",
            "b7edb560b5654f2eb2ad2e06e61238c0",
            "5935050ab9ac4cb5a9785e621a5e3908",
            "39c109ba60f84eff89cf9e9ef6cdd2b7",
            "d8e5447d9f6c421ba98fc318938811d0",
            "c0cde8dfdd194d0db4257affff54c23c"
          ]
        }
      },
      "execution_count": null,
      "outputs": [
        {
          "output_type": "stream",
          "name": "stderr",
          "text": [
            "INFO:pytorch_lightning.utilities.rank_zero:GPU available: False, used: False\n",
            "INFO:pytorch_lightning.utilities.rank_zero:TPU available: False, using: 0 TPU cores\n",
            "INFO:pytorch_lightning.utilities.rank_zero:IPU available: False, using: 0 IPUs\n",
            "INFO:pytorch_lightning.utilities.rank_zero:HPU available: False, using: 0 HPUs\n",
            "INFO:pytorch_lightning.utilities.rank_zero:Restoring states from the checkpoint path at /content/drive/Shareddrives/ECE6179_project/2_blocks_inherit/stage2_target/epoch=147-step=592.ckpt\n",
            "INFO:pytorch_lightning.utilities.rank_zero:Loaded model weights from checkpoint at /content/drive/Shareddrives/ECE6179_project/2_blocks_inherit/stage2_target/epoch=147-step=592.ckpt\n"
          ]
        },
        {
          "output_type": "display_data",
          "data": {
            "text/plain": [
              "Testing: 0it [00:00, ?it/s]"
            ],
            "application/vnd.jupyter.widget-view+json": {
              "version_major": 2,
              "version_minor": 0,
              "model_id": "c86d45b6a7444842a8e350267b39f29e"
            }
          },
          "metadata": {}
        },
        {
          "output_type": "stream",
          "name": "stdout",
          "text": [
            "────────────────────────────────────────────────────────────────────────────────────────────────────────────────────────\n",
            "       Test metric             DataLoader 0\n",
            "────────────────────────────────────────────────────────────────────────────────────────────────────────────────────────\n",
            "        test_acc             0.562624990940094\n",
            "        test_loss           1.2482538223266602\n",
            "────────────────────────────────────────────────────────────────────────────────────────────────────────────────────────\n"
          ]
        },
        {
          "output_type": "execute_result",
          "data": {
            "text/plain": [
              "[{'test_loss': 1.2482538223266602, 'test_acc': 0.562624990940094}]"
            ]
          },
          "metadata": {},
          "execution_count": 12
        }
      ]
    },
    {
      "cell_type": "code",
      "source": [
        "%tensorboard --logdir=/content/drive/Shareddrives/ECE6179_project/2_blocks_inherit/stage2_target/runs"
      ],
      "metadata": {
        "id": "ZU0-pH8yKXfr"
      },
      "execution_count": null,
      "outputs": []
    },
    {
      "cell_type": "code",
      "source": [
        "import pandas as pd\n",
        "\n",
        "training_data = pd.read_csv(\"/content/drive/Shareddrives/ECE6179_project/2_blocks_inherit/stage2_target/lightning_logs/version_0/metrics.csv\")\n",
        "training_data.set_index(\"epoch\", inplace=True)\n",
        "training_data = training_data.groupby(level=0).sum().drop(\"step\", axis=1)"
      ],
      "metadata": {
        "id": "11P9JtIPigwd"
      },
      "execution_count": 8,
      "outputs": []
    },
    {
      "cell_type": "code",
      "source": [
        "plt.figure()\n",
        "\n",
        "plt.plot(training_data[\"train_loss\"][:-1])\n",
        "plt.plot(training_data[\"val_loss\"][:-1])\n",
        "\n",
        "plt.title(\"Training vs. validation loss - SL with hierarchical SSL encoder\")\n",
        "plt.xlabel(\"Epoch\")\n",
        "plt.ylabel(\"Loss\")\n",
        "plt.legend([\"Train Loss\",\"Validation Loss\"])\n",
        "plt.savefig(\"fig1.png\", format='png')\n",
        "plt.show()"
      ],
      "metadata": {
        "id": "vaYojiO7isqX",
        "outputId": "b9cdfdf9-c42b-4a94-c718-d17819076812",
        "colab": {
          "base_uri": "https://localhost:8080/",
          "height": 295
        }
      },
      "execution_count": 18,
      "outputs": [
        {
          "output_type": "display_data",
          "data": {
            "text/plain": [
              "<Figure size 432x288 with 1 Axes>"
            ],
            "image/png": "[encoded data removed]"
          },
          "metadata": {
            "needs_background": "light"
          }
        }
      ]
    },
    {
      "cell_type": "code",
      "source": [
        "plt.figure()\n",
        "\n",
        "plt.plot(training_data[\"train_acc\"][:-1])\n",
        "plt.plot(training_data[\"val_acc\"][:-1])\n",
        "\n",
        "plt.title(\"Training vs. validation Accuracy - SL with hierarchical SSL encoder\")\n",
        "plt.xlabel(\"Epoch\")\n",
        "plt.ylabel(\"Accuracy\")\n",
        "plt.legend([\"Train Accuracy\",\"Validation Accuracy\"])\n",
        "plt.savefig(\"fig2.png\", format='png')\n",
        "plt.show()"
      ],
      "metadata": {
        "id": "ZHq0bWC8k_B6",
        "outputId": "785838ea-bc6f-424e-a430-3615d8a62433",
        "colab": {
          "base_uri": "https://localhost:8080/",
          "height": 295
        }
      },
      "execution_count": 19,
      "outputs": [
        {
          "output_type": "display_data",
          "data": {
            "text/plain": [
              "<Figure size 432x288 with 1 Axes>"
            ],
            "image/png": "[encoded data removed]"
          },
          "metadata": {
            "needs_background": "light"
          }
        }
      ]
    }
  ]
}